{
 "cells": [
  {
   "cell_type": "markdown",
   "metadata": {},
   "source": [
    "## Country & City parser"
   ]
  },
  {
   "cell_type": "markdown",
   "metadata": {},
   "source": [
    "### Loading and using the parser"
   ]
  },
  {
   "cell_type": "code",
   "execution_count": 6,
   "metadata": {},
   "outputs": [],
   "source": [
    "def word2vec(ls):\n",
    "    return [token.vector.tolist() for token in ls]\n",
    "\n",
    "def feature(x):\n",
    "    \"\"\"\n",
    "    This function takes in a list of word vectors and convert to input features (eg below)\n",
    "    \"\"\"\n",
    "    for sent in x:\n",
    "        for word in sent:\n",
    "            for idx, feature in enumerate(word):\n",
    "                word[idx] = 'feature%s=%s' %(idx,feature)    "
   ]
  },
  {
   "cell_type": "code",
   "execution_count": 8,
   "metadata": {},
   "outputs": [
    {
     "data": {
      "text/html": [
       "<div>\n",
       "<style>\n",
       "    .dataframe thead tr:only-child th {\n",
       "        text-align: right;\n",
       "    }\n",
       "\n",
       "    .dataframe thead th {\n",
       "        text-align: left;\n",
       "    }\n",
       "\n",
       "    .dataframe tbody tr th {\n",
       "        vertical-align: top;\n",
       "    }\n",
       "</style>\n",
       "<table border=\"1\" class=\"dataframe\">\n",
       "  <thead>\n",
       "    <tr style=\"text-align: right;\">\n",
       "      <th></th>\n",
       "      <th>sentence</th>\n",
       "    </tr>\n",
       "  </thead>\n",
       "  <tbody>\n",
       "    <tr>\n",
       "      <th>0</th>\n",
       "      <td>Stay in Maldives with The St. Regis Hotels. Lo...</td>\n",
       "    </tr>\n",
       "    <tr>\n",
       "      <th>1</th>\n",
       "      <td>Relax in Style At Hilton's Barbados Beachfront...</td>\n",
       "    </tr>\n",
       "    <tr>\n",
       "      <th>2</th>\n",
       "      <td>Enjoy Being on the Shores of The Gulf of Mexic...</td>\n",
       "    </tr>\n",
       "    <tr>\n",
       "      <th>3</th>\n",
       "      <td>Tap to Book Your Room in Puerto Rico. Enjoy a ...</td>\n",
       "    </tr>\n",
       "    <tr>\n",
       "      <th>4</th>\n",
       "      <td>Luxury in Port of Spain, Trinidad. Best Rates ...</td>\n",
       "    </tr>\n",
       "  </tbody>\n",
       "</table>\n",
       "</div>"
      ],
      "text/plain": [
       "                                            sentence\n",
       "0  Stay in Maldives with The St. Regis Hotels. Lo...\n",
       "1  Relax in Style At Hilton's Barbados Beachfront...\n",
       "2  Enjoy Being on the Shores of The Gulf of Mexic...\n",
       "3  Tap to Book Your Room in Puerto Rico. Enjoy a ...\n",
       "4  Luxury in Port of Spain, Trinidad. Best Rates ..."
      ]
     },
     "metadata": {},
     "output_type": "display_data"
    },
    {
     "data": {
      "text/html": [
       "<div>\n",
       "<style>\n",
       "    .dataframe thead tr:only-child th {\n",
       "        text-align: right;\n",
       "    }\n",
       "\n",
       "    .dataframe thead th {\n",
       "        text-align: left;\n",
       "    }\n",
       "\n",
       "    .dataframe tbody tr th {\n",
       "        vertical-align: top;\n",
       "    }\n",
       "</style>\n",
       "<table border=\"1\" class=\"dataframe\">\n",
       "  <thead>\n",
       "    <tr style=\"text-align: right;\">\n",
       "      <th></th>\n",
       "      <th>sentence</th>\n",
       "      <th>country_labels</th>\n",
       "      <th>city_labels</th>\n",
       "    </tr>\n",
       "  </thead>\n",
       "  <tbody>\n",
       "    <tr>\n",
       "      <th>0</th>\n",
       "      <td>stay in maldives with the st. regis hotels. lo...</td>\n",
       "      <td>[I, I, C, I, I, I, I, I, I, I, I, I, I, I, I, I]</td>\n",
       "      <td>[I, I, I, I, I, I, I, I, I, I, I, I, I, I, I, I]</td>\n",
       "    </tr>\n",
       "    <tr>\n",
       "      <th>1</th>\n",
       "      <td>relax in style at hilton's barbados beachfront...</td>\n",
       "      <td>[I, I, I, I, I, I, C, I, I, I, I, I, I]</td>\n",
       "      <td>[I, I, I, I, I, I, I, I, I, I, I, I, Ci]</td>\n",
       "    </tr>\n",
       "    <tr>\n",
       "      <th>2</th>\n",
       "      <td>enjoy being on the shores of the gulf of mexic...</td>\n",
       "      <td>[I, I, I, I, I, I, I, I, I, C, I, I, I, I, I, ...</td>\n",
       "      <td>[I, I, I, I, I, I, I, I, I, I, I, I, I, I, I, ...</td>\n",
       "    </tr>\n",
       "    <tr>\n",
       "      <th>3</th>\n",
       "      <td>tap to book your room in puerto rico. enjoy a ...</td>\n",
       "      <td>[I, I, I, I, I, I, C, C, I, I, I, I, I, I, I, ...</td>\n",
       "      <td>[I, I, I, I, I, I, I, I, I, I, I, I, I, I, I, ...</td>\n",
       "    </tr>\n",
       "    <tr>\n",
       "      <th>4</th>\n",
       "      <td>luxury in port of spain, trinidad. best rates ...</td>\n",
       "      <td>[I, I, I, I, C, I, C, I, I, I, I, I, I, I, I]</td>\n",
       "      <td>[I, I, I, I, I, I, I, I, I, I, I, I, I, I, I]</td>\n",
       "    </tr>\n",
       "  </tbody>\n",
       "</table>\n",
       "</div>"
      ],
      "text/plain": [
       "                                            sentence  \\\n",
       "0  stay in maldives with the st. regis hotels. lo...   \n",
       "1  relax in style at hilton's barbados beachfront...   \n",
       "2  enjoy being on the shores of the gulf of mexic...   \n",
       "3  tap to book your room in puerto rico. enjoy a ...   \n",
       "4  luxury in port of spain, trinidad. best rates ...   \n",
       "\n",
       "                                      country_labels  \\\n",
       "0   [I, I, C, I, I, I, I, I, I, I, I, I, I, I, I, I]   \n",
       "1            [I, I, I, I, I, I, C, I, I, I, I, I, I]   \n",
       "2  [I, I, I, I, I, I, I, I, I, C, I, I, I, I, I, ...   \n",
       "3  [I, I, I, I, I, I, C, C, I, I, I, I, I, I, I, ...   \n",
       "4      [I, I, I, I, C, I, C, I, I, I, I, I, I, I, I]   \n",
       "\n",
       "                                         city_labels  \n",
       "0   [I, I, I, I, I, I, I, I, I, I, I, I, I, I, I, I]  \n",
       "1           [I, I, I, I, I, I, I, I, I, I, I, I, Ci]  \n",
       "2  [I, I, I, I, I, I, I, I, I, I, I, I, I, I, I, ...  \n",
       "3  [I, I, I, I, I, I, I, I, I, I, I, I, I, I, I, ...  \n",
       "4      [I, I, I, I, I, I, I, I, I, I, I, I, I, I, I]  "
      ]
     },
     "execution_count": 8,
     "metadata": {},
     "output_type": "execute_result"
    }
   ],
   "source": [
    "from sklearn.externals import joblib\n",
    "import spacy\n",
    "import pandas as pd\n",
    "from IPython.display import display\n",
    "import os\n",
    "\n",
    "nlp = spacy.load('en_core_web_lg')\n",
    "\n",
    "# data is a single column dataframe\n",
    "file = os.path.join(os.getcwd(),'test_data.csv')\n",
    "df = pd.read_csv(file, encoding='latin1')\n",
    "display(df.head())\n",
    "\n",
    "# preprocess the data\n",
    "df['sentence'] = df['sentence'].str.lower()\n",
    "df['vector'] = df['sentence'].copy()\n",
    "df['vector'] = df['vector'].apply(lambda x: nlp(str(x)))\n",
    "df['vector'] = df['vector'].apply(word2vec)\n",
    "\n",
    "# convert data to model inputs\n",
    "feature(df['vector'].tolist())\n",
    "\n",
    "# load the model from disk and run it\n",
    "# each parser runs seperately as compared to one after another\n",
    "country_parser = joblib.load('leo_country_parser.pkl')\n",
    "country_result = country_parser.predict(df['vector'].tolist())\n",
    "df['country_labels'] = pd.Series(country_result).to_frame('country_labels')\n",
    "\n",
    "city_parser = joblib.load('leo_city_parser.pkl')\n",
    "city_result = city_parser.predict(df['vector'].tolist())\n",
    "df['city_labels'] = pd.Series(city_result).to_frame('city_labels')\n",
    "\n",
    "df2 = df[['sentence', 'country_labels', 'city_labels']]\n",
    "df2.head()\n",
    "\n",
    "# 'C' indicates a country\n",
    "# 'Ci' indicates a city"
   ]
  },
  {
   "cell_type": "markdown",
   "metadata": {},
   "source": [
    "## Supplementay code on how the parser was created ================================================================="
   ]
  },
  {
   "cell_type": "markdown",
   "metadata": {},
   "source": [
    "###  Country parser training steps\n",
    "\n",
    "1) replace country name with label <br>\n",
    "2) tokenize the sentence using spacy <br>\n",
    "3) re-label sentence with \"C\" for COUNTRY and \"I\" for non-COUNTRY word <br>\n",
    "4) create word vector using spacy.vector <br>\n",
    "5) split test-train <br>\n",
    "6) train the model using Conditional random fields <br>\n",
    "7) check result with classification report <br>"
   ]
  },
  {
   "cell_type": "code",
   "execution_count": 5,
   "metadata": {},
   "outputs": [],
   "source": [
    "import os\n",
    "import pandas as pd\n",
    "import spacy\n",
    "import re\n",
    "\n",
    "# have to use large model as it greatly affects the parser accuracy\n",
    "nlp = spacy.load('en_core_web_lg')\n",
    "pd.set_option('display.max_rows', 500)\n",
    "pd.set_option('display.max_colwidth', -1)\n",
    "\n",
    "from sklearn.grid_search import RandomizedSearchCV"
   ]
  },
  {
   "cell_type": "code",
   "execution_count": 7,
   "metadata": {
    "scrolled": false
   },
   "outputs": [
    {
     "data": {
      "text/html": [
       "<div>\n",
       "<style scoped>\n",
       "    .dataframe tbody tr th:only-of-type {\n",
       "        vertical-align: middle;\n",
       "    }\n",
       "\n",
       "    .dataframe tbody tr th {\n",
       "        vertical-align: top;\n",
       "    }\n",
       "\n",
       "    .dataframe thead th {\n",
       "        text-align: right;\n",
       "    }\n",
       "</style>\n",
       "<table border=\"1\" class=\"dataframe\">\n",
       "  <thead>\n",
       "    <tr style=\"text-align: right;\">\n",
       "      <th></th>\n",
       "      <th>sentence</th>\n",
       "      <th>labelled</th>\n",
       "      <th>vectors</th>\n",
       "    </tr>\n",
       "  </thead>\n",
       "  <tbody>\n",
       "    <tr>\n",
       "      <th>0</th>\n",
       "      <td>Fantastic New Holiday Lodges Available To Buy In Scotland. Book A Viewing Now!</td>\n",
       "      <td>Fantastic New Holiday Lodges Available To Buy In COUNTRY. Book A Viewing Now!</td>\n",
       "      <td>Fantastic New Holiday Lodges Available To Buy In Scotland. Book A Viewing Now!</td>\n",
       "    </tr>\n",
       "    <tr>\n",
       "      <th>1</th>\n",
       "      <td>Aruba north of the coast of Venezuela</td>\n",
       "      <td>Aruba north of the coast of Venezuela</td>\n",
       "      <td>Aruba north of the coast of Venezuela</td>\n",
       "    </tr>\n",
       "    <tr>\n",
       "      <th>2</th>\n",
       "      <td>Together with Bonaire and Curaçao, Aruba forms a group referred to as the ABC islands</td>\n",
       "      <td>Together with Bonaire and Curaçao, Aruba forms a group referred to as the ABC islands</td>\n",
       "      <td>Together with Bonaire and Curaçao, Aruba forms a group referred to as the ABC islands</td>\n",
       "    </tr>\n",
       "    <tr>\n",
       "      <th>3</th>\n",
       "      <td>Collectively, Aruba and the other Dutch islands in the Caribbean are often called the Dutch Caribbean</td>\n",
       "      <td>Collectively, Aruba and the other Dutch islands in the Caribbean are often called the Dutch Caribbean</td>\n",
       "      <td>Collectively, Aruba and the other Dutch islands in the Caribbean are often called the Dutch Caribbean</td>\n",
       "    </tr>\n",
       "    <tr>\n",
       "      <th>4</th>\n",
       "      <td>Aruba is one of the four countries that form the Kingdom of the Netherlands, along with the Netherlands, Curaçao, and Sint Maarten; the citizens of these countries are all Dutch nationals</td>\n",
       "      <td>Aruba is one of the four countries that form the Kingdom of the Netherlands, along with the Netherlands, Curaçao, and Sint Maarten; the citizens of these countries are all Dutch nationals</td>\n",
       "      <td>Aruba is one of the four countries that form the Kingdom of the Netherlands, along with the Netherlands, Curaçao, and Sint Maarten; the citizens of these countries are all Dutch nationals</td>\n",
       "    </tr>\n",
       "  </tbody>\n",
       "</table>\n",
       "</div>"
      ],
      "text/plain": [
       "                                                                                                                                                                                      sentence  \\\n",
       "0  Fantastic New Holiday Lodges Available To Buy In Scotland. Book A Viewing Now!                                                                                                                \n",
       "1  Aruba north of the coast of Venezuela                                                                                                                                                         \n",
       "2  Together with Bonaire and Curaçao, Aruba forms a group referred to as the ABC islands                                                                                                         \n",
       "3  Collectively, Aruba and the other Dutch islands in the Caribbean are often called the Dutch Caribbean                                                                                         \n",
       "4  Aruba is one of the four countries that form the Kingdom of the Netherlands, along with the Netherlands, Curaçao, and Sint Maarten; the citizens of these countries are all Dutch nationals   \n",
       "\n",
       "                                                                                                                                                                                      labelled  \\\n",
       "0  Fantastic New Holiday Lodges Available To Buy In COUNTRY. Book A Viewing Now!                                                                                                                 \n",
       "1  Aruba north of the coast of Venezuela                                                                                                                                                         \n",
       "2  Together with Bonaire and Curaçao, Aruba forms a group referred to as the ABC islands                                                                                                         \n",
       "3  Collectively, Aruba and the other Dutch islands in the Caribbean are often called the Dutch Caribbean                                                                                         \n",
       "4  Aruba is one of the four countries that form the Kingdom of the Netherlands, along with the Netherlands, Curaçao, and Sint Maarten; the citizens of these countries are all Dutch nationals   \n",
       "\n",
       "                                                                                                                                                                                       vectors  \n",
       "0  Fantastic New Holiday Lodges Available To Buy In Scotland. Book A Viewing Now!                                                                                                               \n",
       "1  Aruba north of the coast of Venezuela                                                                                                                                                        \n",
       "2  Together with Bonaire and Curaçao, Aruba forms a group referred to as the ABC islands                                                                                                        \n",
       "3  Collectively, Aruba and the other Dutch islands in the Caribbean are often called the Dutch Caribbean                                                                                        \n",
       "4  Aruba is one of the four countries that form the Kingdom of the Netherlands, along with the Netherlands, Curaçao, and Sint Maarten; the citizens of these countries are all Dutch nationals  "
      ]
     },
     "execution_count": 7,
     "metadata": {},
     "output_type": "execute_result"
    }
   ],
   "source": [
    "# read in raw training data(df) and country list(country)\n",
    "\n",
    "file = os.path.join(os.getcwd(),'country_dataset.csv')\n",
    "df = pd.read_csv(file, encoding='latin1')\n",
    "\n",
    "country_file = os.path.join(os.getcwd(), 'country_list.txt')\n",
    "df_country = pd.read_csv(country_file, sep='\\t')\n",
    "\n",
    "country = df_country['COUNTRY_NAME'].tolist()\n",
    "\n",
    "df.head()"
   ]
  },
  {
   "cell_type": "code",
   "execution_count": 4,
   "metadata": {
    "collapsed": true
   },
   "outputs": [],
   "source": [
    "# lowercase everything\n",
    "\n",
    "country = [word.lower() for word in country]\n",
    "df['sentence'] = df['sentence'].str.lower()\n",
    "df['labelled'] = df['labelled'].str.lower()\n",
    "df['vectors'] = df['vectors'].str.lower()"
   ]
  },
  {
   "cell_type": "code",
   "execution_count": 5,
   "metadata": {
    "collapsed": true
   },
   "outputs": [],
   "source": [
    "# 1) convert country name to COUNTRY using regex\n",
    "    # match when country,/ country / country/ country*\n",
    "\n",
    "def replace_country(text):\n",
    "    for item in country:\n",
    "        match = '%s,|%s$|%s\\s|%s[^A-Za-z]' %(item,item,item,item)\n",
    "        if re.search(match, text, re.I|re.M):\n",
    "            text = re.sub(item, 'COUNTRY '*len(item.split(' ')), text)\n",
    "    return text\n",
    "    \n",
    "df['labelled'] = df['labelled'].apply(replace_country)\n",
    "df['labelled'] = df['labelled'].str.replace('  ', ' ', 5)"
   ]
  },
  {
   "cell_type": "code",
   "execution_count": 6,
   "metadata": {
    "collapsed": true
   },
   "outputs": [],
   "source": [
    "# 2) Tokenize the sentence\n",
    "\n",
    "def to_str(row):\n",
    "    return [str(word) for word in row]\n",
    "\n",
    "df['vectors'] = df['vectors'].apply(lambda x: nlp(str(x)))\n",
    "df['labelled'] = df['labelled'].apply(lambda x: nlp(str(x)))\n",
    "df['labelled'] = df['labelled'].apply(to_str)"
   ]
  },
  {
   "cell_type": "code",
   "execution_count": 58,
   "metadata": {},
   "outputs": [
    {
     "name": "stdout",
     "output_type": "stream",
     "text": [
      "4022\n"
     ]
    },
    {
     "data": {
      "text/html": [
       "<div>\n",
       "<style>\n",
       "    .dataframe thead tr:only-child th {\n",
       "        text-align: right;\n",
       "    }\n",
       "\n",
       "    .dataframe thead th {\n",
       "        text-align: left;\n",
       "    }\n",
       "\n",
       "    .dataframe tbody tr th {\n",
       "        vertical-align: top;\n",
       "    }\n",
       "</style>\n",
       "<table border=\"1\" class=\"dataframe\">\n",
       "  <thead>\n",
       "    <tr style=\"text-align: right;\">\n",
       "      <th></th>\n",
       "      <th>sentence</th>\n",
       "      <th>labelled</th>\n",
       "      <th>vectors</th>\n",
       "      <th>labelled_len</th>\n",
       "      <th>vectors_len</th>\n",
       "    </tr>\n",
       "  </thead>\n",
       "  <tbody>\n",
       "  </tbody>\n",
       "</table>\n",
       "</div>"
      ],
      "text/plain": [
       "Empty DataFrame\n",
       "Columns: [sentence, labelled, vectors, labelled_len, vectors_len]\n",
       "Index: []"
      ]
     },
     "execution_count": 58,
     "metadata": {},
     "output_type": "execute_result"
    }
   ],
   "source": [
    "# check for inconsistent tokenizing\n",
    "def getlen(ls):\n",
    "    return len(ls)\n",
    "\n",
    "df['labelled_len'] = df['labelled'].apply(getlen)\n",
    "df['vectors_len'] = df['vectors'].apply(getlen)\n",
    "remov = df[df['labelled_len'] != df['vectors_len']]\n",
    "\n",
    "# then remove them\n",
    "df.drop(remov.index.values, inplace=True)\n",
    "print(len(df))\n",
    "\n",
    "# check token length again\n",
    "df['labelled_len'] = df['labelled'].apply(getlen)\n",
    "df['vectors_len'] = df['vectors'].apply(getlen)\n",
    "df[df['labelled_len'] != df['vectors_len']]"
   ]
  },
  {
   "cell_type": "code",
   "execution_count": 39,
   "metadata": {
    "collapsed": true
   },
   "outputs": [],
   "source": [
    "# 3) re-label the words with \"I\"  and  \"C\"\n",
    "\n",
    "def labelling1(row):\n",
    "    row = [word.replace(word, 'I') if word != 'COUNTRY' else word.replace(word, 'C') for word in row]\n",
    "    return row\n",
    "\n",
    "df['labelled'] = df['labelled'].apply(labelling1)"
   ]
  },
  {
   "cell_type": "code",
   "execution_count": 40,
   "metadata": {
    "collapsed": true
   },
   "outputs": [],
   "source": [
    "# 4) create word vectors using spacy word embedding\n",
    "\n",
    "df['vectors2'] = df['vectors']\n",
    "\n",
    "# assume that the order of word embedding vector does not change\n",
    "def word2vec(ls):\n",
    "    return [token.vector.tolist() for token in ls]\n",
    "\n",
    "df['vectors2'] = df['vectors2'].apply(word2vec)"
   ]
  },
  {
   "cell_type": "markdown",
   "metadata": {},
   "source": [
    "### Cleaning dataset complete\n",
    "### Proceed to train-test split, train, test, confusion matrix"
   ]
  },
  {
   "cell_type": "code",
   "execution_count": 11,
   "metadata": {
    "collapsed": true
   },
   "outputs": [],
   "source": [
    "from sklearn.model_selection import train_test_split"
   ]
  },
  {
   "cell_type": "markdown",
   "metadata": {},
   "source": [
    "### train-test-split"
   ]
  },
  {
   "cell_type": "code",
   "execution_count": 12,
   "metadata": {
    "collapsed": true
   },
   "outputs": [],
   "source": [
    "def feature(x):\n",
    "    for sent in x:\n",
    "        for word in sent:\n",
    "            for idx, feature in enumerate(word):\n",
    "                word[idx] = 'feature%s=%s' %(idx,feature)"
   ]
  },
  {
   "cell_type": "code",
   "execution_count": 13,
   "metadata": {},
   "outputs": [],
   "source": [
    "# reshuffle the rows\n",
    "df = df.sample(frac=1).reset_index(drop=True)"
   ]
  },
  {
   "cell_type": "code",
   "execution_count": 43,
   "metadata": {},
   "outputs": [
    {
     "name": "stdout",
     "output_type": "stream",
     "text": [
      "no. of train = 3619 \n",
      "no.of test = 403 \n",
      " \n"
     ]
    }
   ],
   "source": [
    "# 5) train-test split\n",
    "\n",
    "train, test = train_test_split(df, test_size=0.1)\n",
    "\n",
    "x_train = train['vectors2'].tolist()\n",
    "y_train = train['labelled'].tolist()\n",
    "x_test = test['vectors2'].tolist()\n",
    "y_test = test['labelled'].tolist()\n",
    "y_test_actual = test['vectors'].tolist()\n",
    "\n",
    "# feature(x_train)\n",
    "# feature(x_test)\n",
    "\n",
    "print('no. of train = %s \\nno.of test = %s \\n ' % (len(x_train), len(x_test)))"
   ]
  },
  {
   "cell_type": "code",
   "execution_count": 22,
   "metadata": {},
   "outputs": [
    {
     "data": {
      "text/plain": [
       "['feature0=0.2720400094985962',\n",
       " 'feature1=-0.06202999874949455',\n",
       " 'feature2=-0.188400000333786',\n",
       " 'feature3=0.023225000128149986',\n",
       " 'feature4=-0.018157999962568283']"
      ]
     },
     "execution_count": 22,
     "metadata": {},
     "output_type": "execute_result"
    }
   ],
   "source": [
    "x_test[0][0][:5]"
   ]
  },
  {
   "cell_type": "markdown",
   "metadata": {},
   "source": [
    "### 6) Trainining the model"
   ]
  },
  {
   "cell_type": "code",
   "execution_count": 19,
   "metadata": {},
   "outputs": [],
   "source": [
    "import sklearn_crfsuite\n",
    "from sklearn_crfsuite import scorers\n",
    "from sklearn_crfsuite import metrics\n",
    "from sklearn.metrics import make_scorer\n",
    "import scipy\n",
    "\n",
    "crf = sklearn_crfsuite.CRF(\n",
    "    algorithm='lbfgs',\n",
    "    c1=0.14348520529810901,\n",
    "    c2=0.083485913568447034,\n",
    "    max_iterations=100,\n",
    "    all_possible_transitions=True\n",
    ")\n",
    "crf.fit(x_train, y_train)"
   ]
  },
  {
   "cell_type": "code",
   "execution_count": 20,
   "metadata": {},
   "outputs": [
    {
     "name": "stdout",
     "output_type": "stream",
     "text": [
      "             precision    recall  f1-score   support\n",
      "\n",
      "          C      0.959     0.952     0.955       585\n",
      "          I      0.996     0.997     0.997      7629\n",
      "\n",
      "avg / total      0.994     0.994     0.994      8214\n",
      "\n"
     ]
    }
   ],
   "source": [
    "labels = list(crf.classes_)\n",
    "labels\n",
    "\n",
    "y_pred = crf.predict(x_test)\n",
    "metrics.flat_f1_score(y_test, y_pred, average='weighted', labels=labels)\n",
    "\n",
    "sorted_labels = sorted(\n",
    "    labels,\n",
    "    key=lambda name: (name[1:], name[0])\n",
    ")\n",
    "print(metrics.flat_classification_report( y_test, y_pred, labels=sorted_labels, digits=3 ))"
   ]
  },
  {
   "cell_type": "code",
   "execution_count": 49,
   "metadata": {},
   "outputs": [
    {
     "name": "stdout",
     "output_type": "stream",
     "text": [
      "Fitting 3 folds for each of 50 candidates, totalling 150 fits\n"
     ]
    },
    {
     "name": "stderr",
     "output_type": "stream",
     "text": [
      "[Parallel(n_jobs=1)]: Done 150 out of 150 | elapsed: 162.3min finished\n"
     ]
    },
    {
     "data": {
      "text/plain": [
       "RandomizedSearchCV(cv=3, error_score='raise',\n",
       "          estimator=CRF(algorithm='lbfgs', all_possible_states=None,\n",
       "  all_possible_transitions=True, averaging=None, c=None, c1=0.1, c2=0.1,\n",
       "  calibration_candidates=None, calibration_eta=None,\n",
       "  calibration_max_trials=None, calibration_rate=None,\n",
       "  calibration_samples=None, delta=None, epsilon=None, error_s...e,\n",
       "  num_memories=None, pa_type=None, period=None, trainer_cls=None,\n",
       "  variance=None, verbose=False),\n",
       "          fit_params={}, iid=True, n_iter=50, n_jobs=1,\n",
       "          param_distributions={'c1': <scipy.stats._distn_infrastructure.rv_frozen object at 0x7febf6ebd828>, 'c2': <scipy.stats._distn_infrastructure.rv_frozen object at 0x7febf6ebd940>},\n",
       "          pre_dispatch='2*n_jobs', random_state=None, refit=True,\n",
       "          scoring=make_scorer(flat_f1_score, average=weighted, labels=['I', 'C']),\n",
       "          verbose=1)"
      ]
     },
     "execution_count": 49,
     "metadata": {},
     "output_type": "execute_result"
    }
   ],
   "source": [
    "# GridsearchCV\n",
    "\n",
    "params_space = {\n",
    "    'c1': scipy.stats.expon(scale=0.5),\n",
    "    'c2': scipy.stats.expon(scale=0.05),\n",
    "}\n",
    "\n",
    "# use the same metric for evaluation\n",
    "f1_scorer = make_scorer(metrics.flat_f1_score,\n",
    "                        average='weighted', labels=labels)\n",
    "\n",
    "# search\n",
    "rs = RandomizedSearchCV(crf, params_space,\n",
    "                        cv=3,\n",
    "                        verbose=1,\n",
    "                        n_jobs=1,\n",
    "                        n_iter=50,\n",
    "                        scoring=f1_scorer)\n",
    "rs.fit(x_train, y_train)"
   ]
  },
  {
   "cell_type": "code",
   "execution_count": 50,
   "metadata": {},
   "outputs": [
    {
     "name": "stdout",
     "output_type": "stream",
     "text": [
      "best params: {'c1': 0.14348520529810901, 'c2': 0.083485913568447034}\n",
      "best CV score: 0.9306674015840242\n",
      "model size: 11.57M\n"
     ]
    }
   ],
   "source": [
    "crf2 = rs.best_estimator_\n",
    "print('best params:', rs.best_params_)\n",
    "print('best CV score:', rs.best_score_)\n",
    "print('model size: {:0.2f}M'.format(rs.best_estimator_.size_ / 1000000))"
   ]
  },
  {
   "cell_type": "code",
   "execution_count": null,
   "metadata": {},
   "outputs": [],
   "source": [
    "from sklearn.externals import joblib\n",
    "\n",
    "# save the model to disk\n",
    "filename = 'country_parser.pkl'\n",
    "joblib.dump(crf, filename)"
   ]
  },
  {
   "cell_type": "markdown",
   "metadata": {},
   "source": [
    "## error diagnostics"
   ]
  },
  {
   "cell_type": "code",
   "execution_count": 88,
   "metadata": {},
   "outputs": [
    {
     "name": "stderr",
     "output_type": "stream",
     "text": [
      "C:\\Users\\BZhang03\\AppData\\Local\\Continuum\\Anaconda3\\envs\\py36\\lib\\site-packages\\ipykernel_launcher.py:1: SettingWithCopyWarning: \n",
      "A value is trying to be set on a copy of a slice from a DataFrame.\n",
      "Try using .loc[row_indexer,col_indexer] = value instead\n",
      "\n",
      "See the caveats in the documentation: http://pandas.pydata.org/pandas-docs/stable/indexing.html#indexing-view-versus-copy\n",
      "  \"\"\"Entry point for launching an IPython kernel.\n"
     ]
    }
   ],
   "source": [
    "test['y_pred'] = ''\n",
    "\n",
    "for table, result in zip(test.iterrows(), y_pred):\n",
    "    test.set_value(table[0], 'y_pred', result)"
   ]
  },
  {
   "cell_type": "code",
   "execution_count": 89,
   "metadata": {
    "scrolled": true
   },
   "outputs": [
    {
     "name": "stderr",
     "output_type": "stream",
     "text": [
      "C:\\Users\\BZhang03\\AppData\\Local\\Continuum\\Anaconda3\\envs\\py36\\lib\\site-packages\\ipykernel_launcher.py:4: SettingWithCopyWarning: \n",
      "A value is trying to be set on a copy of a slice from a DataFrame.\n",
      "Try using .loc[row_indexer,col_indexer] = value instead\n",
      "\n",
      "See the caveats in the documentation: http://pandas.pydata.org/pandas-docs/stable/indexing.html#indexing-view-versus-copy\n",
      "  after removing the cwd from sys.path.\n",
      "C:\\Users\\BZhang03\\AppData\\Local\\Continuum\\Anaconda3\\envs\\py36\\lib\\site-packages\\ipykernel_launcher.py:5: SettingWithCopyWarning: \n",
      "A value is trying to be set on a copy of a slice from a DataFrame.\n",
      "Try using .loc[row_indexer,col_indexer] = value instead\n",
      "\n",
      "See the caveats in the documentation: http://pandas.pydata.org/pandas-docs/stable/indexing.html#indexing-view-versus-copy\n",
      "  \"\"\"\n"
     ]
    },
    {
     "data": {
      "text/html": [
       "<div>\n",
       "<style>\n",
       "    .dataframe thead tr:only-child th {\n",
       "        text-align: right;\n",
       "    }\n",
       "\n",
       "    .dataframe thead th {\n",
       "        text-align: left;\n",
       "    }\n",
       "\n",
       "    .dataframe tbody tr th {\n",
       "        vertical-align: top;\n",
       "    }\n",
       "</style>\n",
       "<table border=\"1\" class=\"dataframe\">\n",
       "  <thead>\n",
       "    <tr style=\"text-align: right;\">\n",
       "      <th></th>\n",
       "      <th>sentence</th>\n",
       "      <th>labelled</th>\n",
       "      <th>vectors</th>\n",
       "      <th>labelled_len</th>\n",
       "      <th>vectors_len</th>\n",
       "      <th>y_pred</th>\n",
       "      <th>match</th>\n",
       "    </tr>\n",
       "  </thead>\n",
       "  <tbody>\n",
       "    <tr>\n",
       "      <th>1268</th>\n",
       "      <td>articles, photos and video about bosnia and herzegovina from the new york times, with reader advice on where and when to go.</td>\n",
       "      <td>[I, I, I, I, I, I, C, C, C, I, I, I, I, I, I, I, I, I, I, I, I, I, I, I, I]</td>\n",
       "      <td>(articles, ,, photos, and, video, about, bosnia, and, herzegovina, from, the, new, york, times, ,, with, reader, advice, on, where, and, when, to, go, .)</td>\n",
       "      <td>25</td>\n",
       "      <td>25</td>\n",
       "      <td>[I, I, I, I, I, I, C, I, C, I, I, I, I, I, I, I, I, I, I, I, I, I, I, I, I]</td>\n",
       "      <td>False</td>\n",
       "    </tr>\n",
       "  </tbody>\n",
       "</table>\n",
       "</div>"
      ],
      "text/plain": [
       "                                                                                                                          sentence  \\\n",
       "1268  articles, photos and video about bosnia and herzegovina from the new york times, with reader advice on where and when to go.   \n",
       "\n",
       "                                                                         labelled  \\\n",
       "1268  [I, I, I, I, I, I, C, C, C, I, I, I, I, I, I, I, I, I, I, I, I, I, I, I, I]   \n",
       "\n",
       "                                                                                                                                                        vectors  \\\n",
       "1268  (articles, ,, photos, and, video, about, bosnia, and, herzegovina, from, the, new, york, times, ,, with, reader, advice, on, where, and, when, to, go, .)   \n",
       "\n",
       "      labelled_len  vectors_len  \\\n",
       "1268  25            25            \n",
       "\n",
       "                                                                           y_pred  \\\n",
       "1268  [I, I, I, I, I, I, C, I, C, I, I, I, I, I, I, I, I, I, I, I, I, I, I, I, I]   \n",
       "\n",
       "      match  \n",
       "1268  False  "
      ]
     },
     "execution_count": 89,
     "metadata": {},
     "output_type": "execute_result"
    }
   ],
   "source": [
    "def matchlabels(df):\n",
    "    return df['labelled'] == df['y_pred']\n",
    "    \n",
    "test['match'] =''\n",
    "test['match'] = test[:10].apply(matchlabels, axis=1)\n",
    "\n",
    "mismatchdf = test[test['match'] == False]\n",
    "\n",
    "mismatchdf.drop('vectors2', axis=1)"
   ]
  },
  {
   "cell_type": "markdown",
   "metadata": {},
   "source": [
    "1) southern sicily  -->  tagged \"southern\" as \"C\" instead of \"I\" <br>\n",
    "2) bosnia and herzegovina  --> tagged \"and\" as \"I: instead of \"C\" \n"
   ]
  }
 ],
 "metadata": {
  "kernelspec": {
   "display_name": "Python 3",
   "language": "python",
   "name": "python3"
  },
  "language_info": {
   "codemirror_mode": {
    "name": "ipython",
    "version": 3
   },
   "file_extension": ".py",
   "mimetype": "text/x-python",
   "name": "python",
   "nbconvert_exporter": "python",
   "pygments_lexer": "ipython3",
   "version": "3.6.4"
  }
 },
 "nbformat": 4,
 "nbformat_minor": 2
}
